{
 "cells": [
  {
   "cell_type": "markdown",
   "id": "6cec9610-80e4-441d-89a2-e9b0fd162ac9",
   "metadata": {},
   "source": [
    "# Data Science Tools and Ecosyste"
   ]
  },
  {
   "cell_type": "markdown",
   "id": "bd67f51f-67ec-4015-93dd-9120fd406f9a",
   "metadata": {},
   "source": [
    "In this notebook, Data Science Tools and Ecosystem are summarized."
   ]
  },
  {
   "cell_type": "markdown",
   "id": "2256b588-b94b-4291-abe9-cffa9998fed1",
   "metadata": {},
   "source": [
    "**Objectives:**\n",
    "* Know popular languages that Data Scientists\n",
    "* Some of the commonly used libraries used by Data Scientists include\n",
    "* Few examples of evaluating arithmetic expressions in Python\n"
   ]
  },
  {
   "cell_type": "markdown",
   "id": "22f1e3ed-577c-4481-b460-ad40f6fa9b2a",
   "metadata": {},
   "source": [
    "Some of the popular languages that Data Scientists use are:\n",
    "\n",
    "1. Python\n",
    "2. java\n",
    "3. R\n",
    "4. C/C++\n",
    "5. javaScript\n",
    "6. C#"
   ]
  },
  {
   "cell_type": "markdown",
   "id": "fc7358e1-6f53-4437-9543-c2820306c2f8",
   "metadata": {},
   "source": [
    "Some of the commonly used libraries used by Data Scientists include:\n",
    "\n",
    "1. Numpy\n",
    "2. Pandas\n",
    "3. Scipy\n",
    "4. Seaborn\n",
    "5. Matplotlib\n",
    "6. Scikit learn\n",
    "7. Tensorflow"
   ]
  },
  {
   "cell_type": "markdown",
   "id": "83303a89-28b2-4c2a-9c07-ed79754f08f7",
   "metadata": {},
   "source": [
    "| Data Science Tools |\n",
    "---------------------\n",
    "| Jupyter Notebook  |\n",
    "| Google Collab     |\n",
    "| VS Code          |"
   ]
  },
  {
   "cell_type": "markdown",
   "id": "3dfd239f-d0ee-418c-ac1c-d8064be60f89",
   "metadata": {},
   "source": [
    "### Below are a few examples of evaluating arithmetic expressions in Python"
   ]
  },
  {
   "cell_type": "code",
   "execution_count": 1,
   "id": "07000b50-17ba-45e2-aab5-e689b0b40dc4",
   "metadata": {},
   "outputs": [
    {
     "data": {
      "text/plain": [
       "17"
      ]
     },
     "execution_count": 1,
     "metadata": {},
     "output_type": "execute_result"
    }
   ],
   "source": [
    "#This a simple arithmetic expression to mutiply then add integers\n",
    "(3*4)+5"
   ]
  },
  {
   "cell_type": "code",
   "execution_count": 3,
   "id": "9c07425b-e8dc-40ba-a852-cfc7175dace0",
   "metadata": {},
   "outputs": [
    {
     "data": {
      "text/plain": [
       "3.3333333333333335"
      ]
     },
     "execution_count": 3,
     "metadata": {},
     "output_type": "execute_result"
    }
   ],
   "source": [
    "#This will convert 200 minutes to hours by diving by 60\n",
    "(200/60)"
   ]
  },
  {
   "cell_type": "markdown",
   "id": "dbabedb0-83e1-403c-bba9-296c3e6ca5e5",
   "metadata": {},
   "source": [
    "## Author\n",
    "Olabintan Ibraheem\n"
   ]
  },
  {
   "cell_type": "code",
   "execution_count": null,
   "id": "f83cfb8e-6c31-4724-99a6-004ec00f7d55",
   "metadata": {},
   "outputs": [],
   "source": []
  }
 ],
 "metadata": {
  "kernelspec": {
   "display_name": "Python 3 (ipykernel)",
   "language": "python",
   "name": "python3"
  },
  "language_info": {
   "codemirror_mode": {
    "name": "ipython",
    "version": 3
   },
   "file_extension": ".py",
   "mimetype": "text/x-python",
   "name": "python",
   "nbconvert_exporter": "python",
   "pygments_lexer": "ipython3",
   "version": "3.11.5"
  }
 },
 "nbformat": 4,
 "nbformat_minor": 5
}
